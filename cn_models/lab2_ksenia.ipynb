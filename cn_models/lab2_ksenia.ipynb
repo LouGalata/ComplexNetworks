{
 "cells": [
  {
   "cell_type": "markdown",
   "metadata": {
    "pycharm": {
     "name": "#%% md\n"
    }
   },
   "source": [
    "# A2. Models of complex networks Assignment\n",
    "\n",
    "Galata Aglaia-Elli & Kharitonova Ksenia\n"
   ]
  },
  {
   "cell_type": "markdown",
   "metadata": {
    "pycharm": {
     "name": "#%% md\n"
    }
   },
   "source": [
    "# Imports"
   ]
  },
  {
   "cell_type": "code",
   "execution_count": 109,
   "metadata": {},
   "outputs": [],
   "source": [
    "import random\n",
    "from itertools import combinations\n",
    "import pandas as pd\n",
    "import matplotlib.pyplot as plt\n",
    "import matplotlib\n",
    "import networkx as nx\n",
    "import numpy as np\n",
    "from random import choices\n",
    "import seaborn as sns\n",
    "import os\n",
    "from scipy.stats import binom, linregress\n",
    "\n",
    "sns.set()\n",
    "np.random.seed(0)\n",
    "sns.set(style=\"whitegrid\")\n",
    "sns.set_palette(\"Set3\", 10)"
   ]
  },
  {
   "cell_type": "markdown",
   "metadata": {},
   "source": [
    "# Erdos Renyi G(n, m)"
   ]
  },
  {
   "cell_type": "code",
   "execution_count": 2,
   "metadata": {
    "pycharm": {
     "name": "#%%\n"
    }
   },
   "outputs": [],
   "source": [
    "def erdos_renyi_e(n, m):\n",
    "    '''Creates random Erdos-Renyi graph from n nodes and k edges.\n",
    "    '''\n",
    "    G = nx.Graph()\n",
    "    total_nodes = list(range(n))\n",
    "    G.add_nodes_from(total_nodes)\n",
    "    max_edges = n * (n - 1) / 2\n",
    "    if m == 0:\n",
    "        return G\n",
    "    elif m == max_edges:\n",
    "        G = complete_graph(n, using=G)\n",
    "        return G\n",
    "    else:\n",
    "        total_edges = list(combinations(range(n), 2))\n",
    "        random_edges = random.sample(total_edges, m)\n",
    "        G.add_edges_from(random_edges)\n",
    "    return G"
   ]
  },
  {
   "cell_type": "markdown",
   "metadata": {},
   "source": [
    "# Erdos Renyi G(n, p)"
   ]
  },
  {
   "cell_type": "code",
   "execution_count": 3,
   "metadata": {
    "pycharm": {
     "name": "#%%\n"
    }
   },
   "outputs": [],
   "source": [
    "def erdos_renyi_p(n, p):\n",
    "    '''Creates random Erdos-Renyi graph from n nodes and probability p of forming the edge.\n",
    "    '''\n",
    "    G = nx.Graph()\n",
    "    total_nodes = list(range(n))\n",
    "    G.add_nodes_from(total_nodes)\n",
    "    max_edges = n * (n - 1) / 2\n",
    "    if p == 0:\n",
    "        return G\n",
    "    elif p == 1:\n",
    "        G = complete_graph(n, using=G)\n",
    "        return G\n",
    "    else:\n",
    "        total_edges = list(combinations(range(n), 2))\n",
    "        m = int(round(p*max_edges,0))\n",
    "        random_edges = random.sample(total_edges, m)\n",
    "        G.add_edges_from(random_edges)\n",
    "    return G"
   ]
  },
  {
   "cell_type": "markdown",
   "metadata": {},
   "source": [
    "# Barabasi & Albert"
   ]
  },
  {
   "cell_type": "code",
   "execution_count": 4,
   "metadata": {
    "pycharm": {
     "name": "#%%\n"
    }
   },
   "outputs": [],
   "source": [
    "def barabasi_albert(n, m):\n",
    "    '''Creates Barabasi & alber graph from m average degree of the resulting network.\n",
    "    '''\n",
    "\n",
    "    G = nx.Graph()\n",
    "    # Create a complete graph with a small number of nodes\n",
    "    if n < m:\n",
    "        G = nx.complete_graph(n, create_using=G)\n",
    "        return G\n",
    "    else:\n",
    "        G = nx.complete_graph(m, create_using=G)\n",
    "\n",
    "    for i in range(m, n):\n",
    "        n_nodes = G.number_of_nodes()\n",
    "        population = list(range(n_nodes))\n",
    "        sum_degree = sum([G.degree[node] for node in G.nodes])\n",
    "        if sum_degree != 0:\n",
    "            weights = [G.degree[node]/sum_degree for node in G.nodes]\n",
    "            edges = choices(population, weights, k=m)\n",
    "            G.add_node(i)\n",
    "            z = list(zip([i]*m, edges))\n",
    "            G.add_edges_from(z)\n",
    "        else:\n",
    "            G.add_node(i)\n",
    "            G.add_edges_from([(0, i)])\n",
    "    #\n",
    "\n",
    "    # nx.draw_networkx(G, with_labels=False, node_size=12)\n",
    "    # plt.show()\n",
    "    return G\n",
    "\n",
    "def barabasi_albert_theoretical():\n",
    "    return None"
   ]
  },
  {
   "cell_type": "markdown",
   "metadata": {},
   "source": [
    "# Plot Degree Distributions"
   ]
  },
  {
   "cell_type": "code",
   "execution_count": 5,
   "metadata": {},
   "outputs": [],
   "source": [
    "\n",
    "def change_width(ax, new_value):\n",
    "    for patch in ax.patches:\n",
    "        current_width = patch.get_width()\n",
    "        diff = current_width - new_value\n",
    "        # we change the bar width\n",
    "        patch.set_width(new_value)\n",
    "        # we recenter the bar\n",
    "        patch.set_x(patch.get_x() + diff*0.9)\n",
    "\n",
    "\n",
    "def get_pdf(graph):\n",
    "    n_nodes = graph.number_of_nodes()\n",
    "    deg = list(nx.degree(graph))\n",
    "    node_indexes, node_degrees = zip(*deg)\n",
    "    n_bins = len(set(node_degrees))\n",
    "    n_bins = 1 + int(np.ceil(3.5 * np.log(n_bins)))\n",
    "\n",
    "    minimum = np.log(np.min(node_degrees))\n",
    "    maximum = np.log(np.max(node_degrees))\n",
    "\n",
    "    log_node_degrees = np.log(node_degrees)\n",
    "    interval_step = (maximum - minimum)/ n_bins\n",
    "\n",
    "    probabilities = []\n",
    "    x = []\n",
    "    for i in np.linspace(minimum, maximum, n_bins):\n",
    "        mean_bin = (i + interval_step)/2\n",
    "        mean_bin = np.round(mean_bin, 3)\n",
    "        x.append(mean_bin)\n",
    "        count = len(list(x for x in log_node_degrees if i <= x <= i+interval_step - 0.00001))\n",
    "        probabilities.append(count/n_nodes)\n",
    "\n",
    "    return pd.DataFrame({'probabilities': probabilities, 'log degrees': x})\n",
    "    #return pd.DataFrame({'probabilities': probabilities, 'degrees': x})\n",
    "\n",
    "\n",
    "def degree_distribution(exp_graph, theory_graph):\n",
    "    experiment = get_pdf(exp_graph)\n",
    "    theory = get_pdf(theory_graph)\n",
    "\n",
    "    fig, axes = plt.subplots(1, 2, figsize=(8, 4))\n",
    "    change_width(axes[0], 1.0)\n",
    "    change_width(axes[1], 1.0)\n",
    "    sns.barplot(x=\"log degrees\", y=\"probabilities\", data=experiment, ax=axes[0]).set_title('Experiment')\n",
    "    sns.barplot(x=\"log degrees\", y=\"probabilities\", data=theory, ax=axes[1]).set_title('Theoretical')\n",
    "\n",
    "\n",
    "    axes[0].set_xticklabels(axes[0].get_xticklabels(), rotation=40, ha=\"center\", fontsize=8)\n",
    "    axes[1].set_xticklabels(axes[1].get_xticklabels(), rotation=40, ha=\"center\", fontsize=8)\n",
    "\n",
    "    fig.tight_layout()\n",
    "    plt.show()\n"
   ]
  },
  {
   "cell_type": "code",
   "execution_count": 6,
   "metadata": {},
   "outputs": [],
   "source": [
    "G = erdos_renyi_p(1000, 0.2)"
   ]
  },
  {
   "cell_type": "code",
   "execution_count": 7,
   "metadata": {},
   "outputs": [],
   "source": [
    "from scipy.stats import binom"
   ]
  },
  {
   "cell_type": "code",
   "execution_count": 8,
   "metadata": {},
   "outputs": [],
   "source": [
    "n_nodes = G.number_of_nodes()\n",
    "deg = list(nx.degree(G))\n",
    "node_indexes, node_degrees = zip(*deg)\n",
    "\n",
    "degrees_th = list(set(node_degrees))\n",
    "p_th = [binom.pmf(k, 999, 0.2) for k in degrees_th]"
   ]
  },
  {
   "cell_type": "code",
   "execution_count": 9,
   "metadata": {},
   "outputs": [
    {
     "data": {
      "text/plain": [
       "Text(0.5, 1.0, 'Degree distribution of Erdos-Renyi graph with 1000 nodes and p=0.2')"
      ]
     },
     "execution_count": 9,
     "metadata": {},
     "output_type": "execute_result"
    },
    {
     "data": {
      "image/png": "[encoded data removed]",
      "text/plain": [
       "<Figure size 432x288 with 1 Axes>"
      ]
     },
     "metadata": {},
     "output_type": "display_data"
    }
   ],
   "source": [
    "plt.hist(node_degrees, density=True, label='empirical')\n",
    "plt.plot(degrees_th, p_th, c='r', label='theoretical')\n",
    "plt.legend()\n",
    "plt.title('Degree distribution of Erdos-Renyi graph with 1000 nodes and p=0.2')"
   ]
  },
  {
   "cell_type": "code",
   "execution_count": 174,
   "metadata": {},
   "outputs": [],
   "source": [
    "G2 = barabasi_albert(1000,5)"
   ]
  },
  {
   "cell_type": "code",
   "execution_count": 175,
   "metadata": {},
   "outputs": [],
   "source": [
    "def estimate_exponent(G):\n",
    "    n_nodes = G.number_of_nodes()\n",
    "    deg = list(nx.degree(G))\n",
    "    node_indexes, node_degrees = zip(*deg)\n",
    "    log_degrees = np.array([np.log(k) for k in node_degrees])\n",
    "    bins = np.linspace(np.log(min(node_degrees)), np.log(max(node_degrees)+1), 11)\n",
    "    binned_values = []\n",
    "    for i in range(10):\n",
    "        binned_values.append(len(log_degrees[(log_degrees>=bins[i]) & (log_degrees<bins[i+1])]))\n",
    "    prob = np.array(binned_values)/np.sum(binned_values)\n",
    "    slope, intercept, r_value, p_value, std_err = linregress(bins[:10],np.log(prob))\n",
    "    return -slope+1"
   ]
  },
  {
   "cell_type": "code",
   "execution_count": 176,
   "metadata": {},
   "outputs": [
    {
     "data": {
      "text/plain": [
       "2.6206863034856687"
      ]
     },
     "execution_count": 176,
     "metadata": {},
     "output_type": "execute_result"
    }
   ],
   "source": [
    "estimate_exponent(G2)"
   ]
  },
  {
   "cell_type": "code",
   "execution_count": 177,
   "metadata": {},
   "outputs": [
    {
     "data": {
      "text/plain": [
       "2.591915822817856"
      ]
     },
     "execution_count": 177,
     "metadata": {},
     "output_type": "execute_result"
    }
   ],
   "source": [
    "estimate_exponent(barabasi_albert(2000,3))"
   ]
  },
  {
   "cell_type": "code",
   "execution_count": 178,
   "metadata": {},
   "outputs": [
    {
     "data": {
      "text/plain": [
       "2.6460335884040163"
      ]
     },
     "execution_count": 178,
     "metadata": {},
     "output_type": "execute_result"
    }
   ],
   "source": [
    "estimate_exponent(barabasi_albert(2000,5))"
   ]
  },
  {
   "cell_type": "code",
   "execution_count": 179,
   "metadata": {},
   "outputs": [
    {
     "data": {
      "text/plain": [
       "1.8267730161626274"
      ]
     },
     "execution_count": 179,
     "metadata": {},
     "output_type": "execute_result"
    }
   ],
   "source": [
    "estimate_exponent(barabasi_albert(1000,2))"
   ]
  },
  {
   "cell_type": "code",
   "execution_count": 180,
   "metadata": {},
   "outputs": [],
   "source": [
    "def plot_ba_graph(G, n, k, C):\n",
    "    n_nodes = G.number_of_nodes()\n",
    "    deg = list(nx.degree(G))\n",
    "    node_indexes, node_degrees = zip(*deg)\n",
    "    plt.hist(node_degrees, 10 ** np.linspace(np.log10(min(node_degrees)), np.log10(max(node_degrees)), 20), log=True, density=True, label='empirical')\n",
    "    plt.plot([10**np.log10(k) for k in list(set(node_degrees))],[C*k**(-3) for k in [10**np.log10(k) for k in list(set(node_degrees))]], c='r', label='theoretical')\n",
    "    plt.gca().set_xscale(\"log\")\n",
    "    plt.legend()\n",
    "    plt.title(f'Power-law degree distribution of PA graph with {n} nodes and k={k}')\n",
    "    plt.show()"
   ]
  },
  {
   "cell_type": "code",
   "execution_count": 181,
   "metadata": {},
   "outputs": [
    {
     "data": {
      "image/png": "[encoded data removed]",
      "text/plain": [
       "<Figure size 432x288 with 1 Axes>"
      ]
     },
     "metadata": {},
     "output_type": "display_data"
    }
   ],
   "source": [
    "plot_ba_graph(G2, 1000, 5, 50)"
   ]
  },
  {
   "cell_type": "code",
   "execution_count": 183,
   "metadata": {},
   "outputs": [
    {
     "data": {
      "image/png": "[encoded data removed]",
      "text/plain": [
       "<Figure size 432x288 with 1 Axes>"
      ]
     },
     "metadata": {},
     "output_type": "display_data"
    }
   ],
   "source": [
    "plot_ba_graph(barabasi_albert(1000,2),1000,2,10)"
   ]
  },
  {
   "cell_type": "code",
   "execution_count": null,
   "metadata": {},
   "outputs": [],
   "source": []
  }
 ],
 "metadata": {
  "kernelspec": {
   "display_name": "Python 3",
   "language": "python",
   "name": "python3"
  },
  "language_info": {
   "codemirror_mode": {
    "name": "ipython",
    "version": 3
   },
   "file_extension": ".py",
   "mimetype": "text/x-python",
   "name": "python",
   "nbconvert_exporter": "python",
   "pygments_lexer": "ipython3",
   "version": "3.6.8"
  },
  "pycharm": {
   "stem_cell": {
    "cell_type": "raw",
    "source": [],
    "metadata": {
     "collapsed": false
    }
   }
  }
 },
 "nbformat": 4,
 "nbformat_minor": 4
}