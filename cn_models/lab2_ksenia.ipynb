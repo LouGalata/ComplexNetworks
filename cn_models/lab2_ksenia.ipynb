{
 "cells": [
  {
   "cell_type": "markdown",
   "metadata": {
    "pycharm": {
     "name": "#%% md\n"
    }
   },
   "source": [
    "# A2. Models of complex networks Assignment\n",
    "\n",
    "Galata Aglaia-Elli & Kharitonova Ksenia\n"
   ]
  },
  {
   "cell_type": "markdown",
   "metadata": {
    "pycharm": {
     "name": "#%% md\n"
    }
   },
   "source": [
    "# Imports"
   ]
  },
  {
   "cell_type": "code",
   "execution_count": 1,
   "metadata": {},
   "outputs": [],
   "source": [
    "import random\n",
    "from itertools import combinations\n",
    "import pandas as pd\n",
    "import matplotlib.pyplot as plt\n",
    "import matplotlib\n",
    "import networkx as nx\n",
    "import numpy as np\n",
    "from random import choices\n",
    "import seaborn as sns\n",
    "import os\n",
    "\n",
    "sns.set()\n",
    "np.random.seed(0)\n",
    "sns.set(style=\"whitegrid\")\n",
    "sns.set_palette(\"Set3\", 10)"
   ]
  },
  {
   "cell_type": "markdown",
   "metadata": {},
   "source": [
    "# Erdos Renyi G(n, m)"
   ]
  },
  {
   "cell_type": "code",
   "execution_count": 2,
   "metadata": {
    "pycharm": {
     "name": "#%%\n"
    }
   },
   "outputs": [],
   "source": [
    "def erdos_renyi_e(n, m):\n",
    "    '''Creates random Erdos-Renyi graph from n nodes and k edges.\n",
    "    '''\n",
    "    G = nx.Graph()\n",
    "    total_nodes = list(range(n))\n",
    "    G.add_nodes_from(total_nodes)\n",
    "    max_edges = n * (n - 1) / 2\n",
    "    if m == 0:\n",
    "        return G\n",
    "    elif m == max_edges:\n",
    "        G = complete_graph(n, using=G)\n",
    "        return G\n",
    "    else:\n",
    "        total_edges = list(combinations(range(n), 2))\n",
    "        random_edges = random.sample(total_edges, m)\n",
    "        G.add_edges_from(random_edges)\n",
    "    return G"
   ]
  },
  {
   "cell_type": "markdown",
   "metadata": {},
   "source": [
    "# Erdos Renyi G(n, p)"
   ]
  },
  {
   "cell_type": "code",
   "execution_count": 3,
   "metadata": {
    "pycharm": {
     "name": "#%%\n"
    }
   },
   "outputs": [],
   "source": [
    "def erdos_renyi_p(n, p):\n",
    "    '''Creates random Erdos-Renyi graph from n nodes and probability p of forming the edge.\n",
    "    '''\n",
    "    G = nx.Graph()\n",
    "    total_nodes = list(range(n))\n",
    "    G.add_nodes_from(total_nodes)\n",
    "    max_edges = n * (n - 1) / 2\n",
    "    if p == 0:\n",
    "        return G\n",
    "    elif p == 1:\n",
    "        G = complete_graph(n, using=G)\n",
    "        return G\n",
    "    else:\n",
    "        total_edges = list(combinations(range(n), 2))\n",
    "        m = int(round(p*max_edges,0))\n",
    "        random_edges = random.sample(total_edges, m)\n",
    "        G.add_edges_from(random_edges)\n",
    "    return G"
   ]
  },
  {
   "cell_type": "markdown",
   "metadata": {},
   "source": [
    "# Barabasi & Albert"
   ]
  },
  {
   "cell_type": "code",
   "execution_count": 4,
   "metadata": {
    "pycharm": {
     "name": "#%%\n"
    }
   },
   "outputs": [],
   "source": [
    "def barabasi_albert(n, m):\n",
    "    '''Creates Barabasi & alber graph from m average degree of the resulting network.\n",
    "    '''\n",
    "\n",
    "    G = nx.Graph()\n",
    "    # Create a complete graph with a small number of nodes\n",
    "    if n < m:\n",
    "        G = nx.complete_graph(n, create_using=G)\n",
    "        return G\n",
    "    else:\n",
    "        G = nx.complete_graph(m, create_using=G)\n",
    "\n",
    "    for i in range(m, n):\n",
    "        n_nodes = G.number_of_nodes()\n",
    "        population = list(range(n_nodes))\n",
    "        sum_degree = sum([G.degree[node] for node in G.nodes])\n",
    "        weights = [G.degree[node]/sum_degree for node in G.nodes]\n",
    "        edges = choices(population, weights, k=m)\n",
    "        G.add_node(i)\n",
    "        z = list(zip([i]*m, edges))\n",
    "        G.add_edges_from(z)\n",
    "\n",
    "    # nx.draw_networkx(G, with_labels=False, node_size=12)\n",
    "    # plt.show()\n",
    "    return G\n",
    "\n",
    "def barabasi_albert_theoretical():\n",
    "    return None"
   ]
  },
  {
   "cell_type": "markdown",
   "metadata": {},
   "source": [
    "# Plot Degree Distributions"
   ]
  },
  {
   "cell_type": "code",
   "execution_count": 5,
   "metadata": {},
   "outputs": [],
   "source": [
    "\n",
    "def change_width(ax, new_value):\n",
    "    for patch in ax.patches:\n",
    "        current_width = patch.get_width()\n",
    "        diff = current_width - new_value\n",
    "        # we change the bar width\n",
    "        patch.set_width(new_value)\n",
    "        # we recenter the bar\n",
    "        patch.set_x(patch.get_x() + diff*0.9)\n",
    "\n",
    "\n",
    "def get_pdf(graph):\n",
    "    n_nodes = graph.number_of_nodes()\n",
    "    deg = list(nx.degree(graph))\n",
    "    node_indexes, node_degrees = zip(*deg)\n",
    "    n_bins = len(set(node_degrees))\n",
    "    n_bins = 1 + int(np.ceil(3.5 * np.log(n_bins)))\n",
    "\n",
    "    minimum = np.log(np.min(node_degrees))\n",
    "    maximum = np.log(np.max(node_degrees))\n",
    "\n",
    "    log_node_degrees = np.log(node_degrees)\n",
    "    interval_step = (maximum - minimum)/ n_bins\n",
    "\n",
    "    probabilities = []\n",
    "    x = []\n",
    "    for i in np.linspace(minimum, maximum, n_bins):\n",
    "        mean_bin = (i + interval_step)/2\n",
    "        mean_bin = np.round(mean_bin, 3)\n",
    "        x.append(mean_bin)\n",
    "        count = len(list(x for x in log_node_degrees if i <= x <= i+interval_step - 0.00001))\n",
    "        probabilities.append(count/n_nodes)\n",
    "\n",
    "    return pd.DataFrame({'probabilities': probabilities, 'log degrees': x})\n",
    "    #return pd.DataFrame({'probabilities': probabilities, 'degrees': x})\n",
    "\n",
    "\n",
    "def degree_distribution(exp_graph, theory_graph):\n",
    "    experiment = get_pdf(exp_graph)\n",
    "    theory = get_pdf(theory_graph)\n",
    "\n",
    "    fig, axes = plt.subplots(1, 2, figsize=(8, 4))\n",
    "    change_width(axes[0], 1.0)\n",
    "    change_width(axes[1], 1.0)\n",
    "    sns.barplot(x=\"log degrees\", y=\"probabilities\", data=experiment, ax=axes[0]).set_title('Experiment')\n",
    "    sns.barplot(x=\"log degrees\", y=\"probabilities\", data=theory, ax=axes[1]).set_title('Theoretical')\n",
    "\n",
    "\n",
    "    axes[0].set_xticklabels(axes[0].get_xticklabels(), rotation=40, ha=\"center\", fontsize=8)\n",
    "    axes[1].set_xticklabels(axes[1].get_xticklabels(), rotation=40, ha=\"center\", fontsize=8)\n",
    "\n",
    "    fig.tight_layout()\n",
    "    plt.show()\n"
   ]
  },
  {
   "cell_type": "code",
   "execution_count": 6,
   "metadata": {},
   "outputs": [],
   "source": [
    "G = erdos_renyi_p(1000, 0.2)"
   ]
  },
  {
   "cell_type": "code",
   "execution_count": 7,
   "metadata": {},
   "outputs": [],
   "source": [
    "from scipy.stats import binom"
   ]
  },
  {
   "cell_type": "code",
   "execution_count": 8,
   "metadata": {},
   "outputs": [],
   "source": [
    "n_nodes = G.number_of_nodes()\n",
    "deg = list(nx.degree(G))\n",
    "node_indexes, node_degrees = zip(*deg)\n",
    "\n",
    "degrees_th = list(set(node_degrees))\n",
    "p_th = [binom.pmf(k, 999, 0.2) for k in degrees_th]"
   ]
  },
  {
   "cell_type": "code",
   "execution_count": 9,
   "metadata": {},
   "outputs": [
    {
     "data": {
      "text/plain": [
       "Text(0.5, 1.0, 'Degree distribution of Erdos-Renyi graph with 1000 nodes and p=0.2')"
      ]
     },
     "execution_count": 9,
     "metadata": {},
     "output_type": "execute_result"
    },
    {
     "data": {
      "image/png": "[encoded data removed]",
      "text/plain": [
       "<Figure size 432x288 with 1 Axes>"
      ]
     },
     "metadata": {},
     "output_type": "display_data"
    }
   ],
   "source": [
    "plt.hist(node_degrees, density=True, label='empirical')\n",
    "plt.plot(degrees_th, p_th, c='r', label='theoretical')\n",
    "plt.legend()\n",
    "plt.title('Degree distribution of Erdos-Renyi graph with 1000 nodes and p=0.2')"
   ]
  },
  {
   "cell_type": "code",
   "execution_count": 10,
   "metadata": {},
   "outputs": [],
   "source": [
    "G2 = barabasi_albert(1000,5)"
   ]
  },
  {
   "cell_type": "code",
   "execution_count": 29,
   "metadata": {},
   "outputs": [],
   "source": [
    "deg = list(nx.degree(G2))\n",
    "node_indexes, node_degrees = zip(*deg)"
   ]
  },
  {
   "cell_type": "code",
   "execution_count": 32,
   "metadata": {},
   "outputs": [
    {
     "data": {
      "text/plain": [
       "{4,\n",
       " 5,\n",
       " 6,\n",
       " 7,\n",
       " 8,\n",
       " 9,\n",
       " 10,\n",
       " 11,\n",
       " 12,\n",
       " 13,\n",
       " 14,\n",
       " 15,\n",
       " 16,\n",
       " 17,\n",
       " 18,\n",
       " 19,\n",
       " 20,\n",
       " 21,\n",
       " 22,\n",
       " 23,\n",
       " 24,\n",
       " 25,\n",
       " 26,\n",
       " 27,\n",
       " 28,\n",
       " 29,\n",
       " 31,\n",
       " 32,\n",
       " 34,\n",
       " 35,\n",
       " 36,\n",
       " 37,\n",
       " 39,\n",
       " 40,\n",
       " 43,\n",
       " 44,\n",
       " 46,\n",
       " 47,\n",
       " 50,\n",
       " 53,\n",
       " 54,\n",
       " 63,\n",
       " 67,\n",
       " 76,\n",
       " 89,\n",
       " 96,\n",
       " 97,\n",
       " 106,\n",
       " 134}"
      ]
     },
     "execution_count": 32,
     "metadata": {},
     "output_type": "execute_result"
    }
   ],
   "source": [
    "set(node_degrees)"
   ]
  },
  {
   "cell_type": "code",
   "execution_count": 35,
   "metadata": {},
   "outputs": [
    {
     "data": {
      "text/plain": [
       "array([  4.        ,   4.81199877,   5.78883304,   6.96396436,\n",
       "         8.37764698,  10.07830674,  12.1241999 ,  14.58540875,\n",
       "        17.54624223,  21.108124  ,  25.39306667,  30.54785138,\n",
       "        36.74905581,  44.20910282,  53.18353708,  63.97977872,\n",
       "        76.9676541 ,  92.59206418, 111.38822469, 134.        ])"
      ]
     },
     "execution_count": 35,
     "metadata": {},
     "output_type": "execute_result"
    }
   ],
   "source": [
    "10 ** np.linspace(np.log10(min(node_degrees)), np.log10(max(node_degrees)), 20)"
   ]
  },
  {
   "cell_type": "code",
   "execution_count": 38,
   "metadata": {},
   "outputs": [
    {
     "data": {
      "text/plain": [
       "[4.0,\n",
       " 5.000000000000001,\n",
       " 134.00000000000003,\n",
       " 6.0,\n",
       " 7.999999999999999,\n",
       " 9.0,\n",
       " 10.0,\n",
       " 10.999999999999996,\n",
       " 12.000000000000002,\n",
       " 12.999999999999998,\n",
       " 13.999999999999998,\n",
       " 15.000000000000004,\n",
       " 16.0,\n",
       " 17.0,\n",
       " 17.999999999999996,\n",
       " 18.999999999999996,\n",
       " 20.000000000000004,\n",
       " 21.0,\n",
       " 21.999999999999996,\n",
       " 22.999999999999996,\n",
       " 23.999999999999993,\n",
       " 25.000000000000007,\n",
       " 26.0,\n",
       " 27.000000000000004,\n",
       " 28.0,\n",
       " 29.0,\n",
       " 30.999999999999996,\n",
       " 32.00000000000001,\n",
       " 34.0,\n",
       " 35.0,\n",
       " 36.0,\n",
       " 37.0,\n",
       " 7.0,\n",
       " 38.99999999999999,\n",
       " 40.000000000000014,\n",
       " 43.000000000000014,\n",
       " 44.0,\n",
       " 46.0,\n",
       " 47.00000000000001,\n",
       " 49.99999999999999,\n",
       " 53.000000000000014,\n",
       " 54.000000000000014,\n",
       " 63.0,\n",
       " 67.0,\n",
       " 76.0,\n",
       " 89.0,\n",
       " 96.0,\n",
       " 96.99999999999999,\n",
       " 106.00000000000004]"
      ]
     },
     "execution_count": 38,
     "metadata": {},
     "output_type": "execute_result"
    }
   ],
   "source": [
    "[10**np.log10(k) for k in list(set(node_degrees))]"
   ]
  },
  {
   "cell_type": "code",
   "execution_count": 51,
   "metadata": {},
   "outputs": [],
   "source": [
    "def plot_ba_graph(G, n, k):\n",
    "    n_nodes = G.number_of_nodes()\n",
    "    deg = list(nx.degree(G))\n",
    "    node_indexes, node_degrees = zip(*deg)\n",
    "    plt.hist(node_degrees, 10 ** np.linspace(np.log10(min(node_degrees)), np.log10(max(node_degrees)), 20), log=True, density=True, label='empirical')\n",
    "    plt.plot([10**np.log10(k) for k in list(set(node_degrees))],[k**(-3) for k in [10**np.log10(k) for k in list(set(node_degrees))]], c='r', label='theoretical')\n",
    "    plt.gca().set_xscale(\"log\")\n",
    "    plt.legend()\n",
    "    plt.title(f'Power-law degree distribution of PA graph with {n} nodes and k={k}')\n",
    "    plt.show()"
   ]
  },
  {
   "cell_type": "code",
   "execution_count": 52,
   "metadata": {},
   "outputs": [
    {
     "data": {
      "image/png": "[encoded data removed]",
      "text/plain": [
       "<Figure size 432x288 with 1 Axes>"
      ]
     },
     "metadata": {},
     "output_type": "display_data"
    }
   ],
   "source": [
    "plot_ba_graph(G2, 1000, 5)"
   ]
  },
  {
   "cell_type": "code",
   "execution_count": 53,
   "metadata": {},
   "outputs": [
    {
     "data": {
      "image/png": "[encoded data removed]",
      "text/plain": [
       "<Figure size 432x288 with 1 Axes>"
      ]
     },
     "metadata": {},
     "output_type": "display_data"
    }
   ],
   "source": [
    "plot_ba_graph(barabasi_albert(1000,2),1000,2)"
   ]
  },
  {
   "cell_type": "code",
   "execution_count": null,
   "metadata": {},
   "outputs": [],
   "source": []
  }
 ],
 "metadata": {
  "kernelspec": {
   "display_name": "Python 3",
   "language": "python",
   "name": "python3"
  },
  "language_info": {
   "codemirror_mode": {
    "name": "ipython",
    "version": 3
   },
   "file_extension": ".py",
   "mimetype": "text/x-python",
   "name": "python",
   "nbconvert_exporter": "python",
   "pygments_lexer": "ipython3",
   "version": "3.6.8"
  },
  "pycharm": {
   "stem_cell": {
    "cell_type": "raw",
    "metadata": {
     "collapsed": false
    },
    "source": []
   }
  }
 },
 "nbformat": 4,
 "nbformat_minor": 4
}
