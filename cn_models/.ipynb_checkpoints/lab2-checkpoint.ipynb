{
 "cells": [
  {
   "cell_type": "markdown",
   "metadata": {
    "pycharm": {
     "name": "#%% md\n"
    }
   },
   "source": [
    "# A2. Models of complex networks Assignment\n",
    "\n",
    "Galata Aglaia-Elli & Kharitonova Ksenia\n"
   ]
  },
  {
   "cell_type": "markdown",
   "metadata": {
    "pycharm": {
     "name": "#%% md\n"
    }
   },
   "source": [
    "# Imports"
   ]
  },
  {
   "cell_type": "code",
   "execution_count": 4,
   "metadata": {},
   "outputs": [],
   "source": [
    "import random\n",
    "from itertools import combinations\n",
    "import pandas as pd\n",
    "import matplotlib.pyplot as plt\n",
    "import matplotlib\n",
    "import networkx as nx\n",
    "import numpy as np\n",
    "from random import choices\n",
    "import seaborn as sns\n",
    "import os"
   ]
  },
  {
   "cell_type": "markdown",
   "metadata": {},
   "source": [
    "# Erdos Renyi G(n, m)"
   ]
  },
  {
   "cell_type": "code",
   "execution_count": 5,
   "metadata": {
    "pycharm": {
     "name": "#%%\n"
    }
   },
   "outputs": [],
   "source": [
    "def erdos_renyi_e(n, k):\n",
    "    '''Creates random Erdos-Renyi graph from n nodes and k edges.\n",
    "    '''\n",
    "    G = nx.Graph()\n",
    "    total_nodes = list(range(n))\n",
    "    G.add_nodes_from(total_nodes)\n",
    "    max_edges = n * (n - 1) / 2\n",
    "    if m == 0:\n",
    "        return G\n",
    "    elif m == max_edges:\n",
    "        G = complete_graph(n, using=G)\n",
    "        return G\n",
    "    else:\n",
    "        total_edges = list(combinations(range(n), 2))\n",
    "        random_edges = random.sample(total_edges, m)\n",
    "        G.add_edges_from(random_edges)\n",
    "    return G"
   ]
  },
  {
   "cell_type": "markdown",
   "metadata": {},
   "source": [
    "# Erdos Renyi G(n, p)"
   ]
  },
  {
   "cell_type": "code",
   "execution_count": 6,
   "metadata": {
    "pycharm": {
     "name": "#%%\n"
    }
   },
   "outputs": [],
   "source": [
    "def erdos_renyi_p(n, p):\n",
    "    '''Creates random Erdos-Renyi graph from n nodes and probability p of forming the edge.\n",
    "    '''\n",
    "    G = nx.Graph()\n",
    "    total_nodes = list(range(n))\n",
    "    G.add_nodes_from(total_nodes)\n",
    "    max_edges = n * (n - 1) / 2\n",
    "    if p == 0:\n",
    "        return G\n",
    "    elif p == 1:\n",
    "        G = complete_graph(n, using=G)\n",
    "        return G\n",
    "    else:\n",
    "        total_edges = list(combinations(range(n), 2))\n",
    "        m = int(round(p*max_edges),0)\n",
    "        random_edges = random.sample(total_edges, m)\n",
    "        G.add_edges_from(random_edges)\n",
    "    return G"
   ]
  },
  {
   "cell_type": "markdown",
   "metadata": {},
   "source": [
    "# Barabasi & Albert"
   ]
  },
  {
   "cell_type": "code",
   "execution_count": 9,
   "metadata": {
    "pycharm": {
     "name": "#%%\n"
    }
   },
   "outputs": [],
   "source": [
    "def barabasi_albert(n, m):\n",
    "    '''Creates Barabasi & alber graph from m average degree of the resulting network.\n",
    "    '''\n",
    "\n",
    "    G = nx.Graph()\n",
    "    # Create a complete graph with a small number of nodes\n",
    "    if n < m:\n",
    "        G = nx.complete_graph(n, create_using=G)\n",
    "        return G\n",
    "    else:\n",
    "        G = nx.complete_graph(m, create_using=G)\n",
    "\n",
    "    for i in range(m, n):\n",
    "        n_nodes = G.number_of_nodes()\n",
    "        population = list(range(n_nodes))\n",
    "        sum_degree = sum([G.degree[node] for node in G.nodes])\n",
    "        weights = [G.degree[node]/sum_degree for node in G.nodes]\n",
    "        edges = choices(population, weights, k=m)\n",
    "        G.add_node(i)\n",
    "        z = list(zip([i]*m, edges))\n",
    "        G.add_edges_from(z)\n",
    "\n",
    "    # nx.draw_networkx(G, with_labels=False, node_size=12)\n",
    "    # plt.show()\n",
    "    return G\n",
    "\n",
    "def barabasi_albert_theoretical():\n",
    "    return None"
   ]
  },
  {
   "cell_type": "markdown",
   "metadata": {},
   "source": [
    "# Plot Degree Distributions"
   ]
  },
  {
   "cell_type": "code",
   "execution_count": 8,
   "metadata": {},
   "outputs": [],
   "source": [
    "\n",
    "def change_width(ax, new_value):\n",
    "    for patch in ax.patches:\n",
    "        current_width = patch.get_width()\n",
    "        diff = current_width - new_value\n",
    "        # we change the bar width\n",
    "        patch.set_width(new_value)\n",
    "        # we recenter the bar\n",
    "        patch.set_x(patch.get_x() + diff*0.9)\n",
    "\n",
    "\n",
    "def get_pdf(graph):\n",
    "    n_nodes = graph.number_of_nodes()\n",
    "    deg = list(nx.degree(graph))\n",
    "    node_indexes, node_degrees = zip(*deg)\n",
    "    n_bins = len(set(node_degrees))\n",
    "    n_bins = 1 + int(np.ceil(3.5 * np.log(n_bins)))\n",
    "\n",
    "    minimum = np.log(np.min(node_degrees))\n",
    "    maximum = np.log(np.max(node_degrees))\n",
    "\n",
    "    log_node_degrees = np.log(node_degrees)\n",
    "    interval_step = (maximum - minimum)/ n_bins\n",
    "\n",
    "    probabilities = []\n",
    "    x = []\n",
    "    for i in np.linspace(minimum, maximum, n_bins):\n",
    "        mean_bin = (i + interval_step)/2\n",
    "        mean_bin = np.round(mean_bin, 3)\n",
    "        x.append(mean_bin)\n",
    "        count = len(list(x for x in log_node_degrees if i <= x <= i+interval_step - 0.00001))\n",
    "        probabilities.append(count/n_nodes)\n",
    "\n",
    "    return pd.DataFrame({'probabilities': probabilities, 'log degrees': x})\n",
    "    # return pd.DataFrame({'probabilities': probabilities, 'degrees': x})\n",
    "\n",
    "\n",
    "def degree_distribution(exp_graph, theory_graph):\n",
    "    experiment = get_pdf(exp_graph)\n",
    "    theory = get_pdf(theory_graph)\n",
    "\n",
    "    fig, axes = plt.subplots(1, 2, figsize=(8, 4))\n",
    "    change_width(axes[0], 1.0)\n",
    "    change_width(axes[1], 1.0)\n",
    "    sns.barplot(x=\"log degrees\", y=\"probabilities\", data=experiment, ax=axes[0]).set_title('Experiment')\n",
    "    sns.barplot(x=\"log degrees\", y=\"probabilities\", data=theory, ax=axes[1]).set_title('Theoretical')\n",
    "\n",
    "\n",
    "    axes[0].set_xticklabels(axes[0].get_xticklabels(), rotation=40, ha=\"center\", fontsize=8)\n",
    "    axes[1].set_xticklabels(axes[1].get_xticklabels(), rotation=40, ha=\"center\", fontsize=8)\n",
    "\n",
    "    fig.tight_layout()\n",
    "    plt.show()\n"
   ]
  },
  {
   "cell_type": "code",
   "execution_count": null,
   "metadata": {},
   "outputs": [],
   "source": []
  }
 ],
 "metadata": {
  "kernelspec": {
   "display_name": "Python 3",
   "language": "python",
   "name": "python3"
  },
  "language_info": {
   "codemirror_mode": {
    "name": "ipython",
    "version": 3
   },
   "file_extension": ".py",
   "mimetype": "text/x-python",
   "name": "python",
   "nbconvert_exporter": "python",
   "pygments_lexer": "ipython3",
   "version": "3.6.8"
  },
  "pycharm": {
   "stem_cell": {
    "cell_type": "raw",
    "metadata": {
     "collapsed": false
    },
    "source": []
   }
  }
 },
 "nbformat": 4,
 "nbformat_minor": 4
}
