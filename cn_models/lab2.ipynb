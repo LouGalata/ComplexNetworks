{
 "cells": [
  {
   "cell_type": "code",
   "execution_count": 9,
   "metadata": {},
   "outputs": [],
   "source": [
    "import os\n",
    "import networkx as nx\n",
    "import numpy as np\n",
    "import pandas as pd\n",
    "import random\n",
    "from itertools import combinations"
   ]
  },
  {
   "cell_type": "code",
   "execution_count": 23,
   "metadata": {},
   "outputs": [],
   "source": [
    "def erdos_renyi_e(n, k):\n",
    "    '''Creates random Erdos-Renyi graph from n nodes and k edges.\n",
    "    '''\n",
    "    G = nx.Graph()\n",
    "    total_nodes = list(range(n))\n",
    "    G.add_nodes_from(total_nodes)\n",
    "    max_edges = n * (n - 1) / 2\n",
    "    if m == 0:\n",
    "        return G\n",
    "    elif m == max_edges:\n",
    "        G = complete_graph(n, using=G)\n",
    "        return G\n",
    "    else:\n",
    "        total_edges = list(combinations(range(n), 2))\n",
    "        random_edges = random.sample(total_edges, m)\n",
    "        G.add_edges_from(random_edges)\n",
    "    return G"
   ]
  },
  {
   "cell_type": "code",
   "execution_count": 25,
   "metadata": {},
   "outputs": [],
   "source": [
    "def erdos_renyi_p(n, p):\n",
    "    '''Creates random Erdos-Renyi graph from n nodes and probability p of forming the edge.\n",
    "    '''\n",
    "    G = nx.Graph()\n",
    "    total_nodes = list(range(n))\n",
    "    G.add_nodes_from(total_nodes)\n",
    "    max_edges = n * (n - 1) / 2\n",
    "    if p == 0:\n",
    "        return G\n",
    "    elif p == 1:\n",
    "        G = complete_graph(n, using=G)\n",
    "        return G\n",
    "    else:\n",
    "        total_edges = list(combinations(range(n), 2))\n",
    "        m = int(round(p*max_edges),0)\n",
    "        random_edges = random.sample(total_edges, m)\n",
    "        G.add_edges_from(random_edges)\n",
    "    return G"
   ]
  },
  {
   "cell_type": "code",
   "execution_count": null,
   "metadata": {},
   "outputs": [],
   "source": []
  }
 ],
 "metadata": {
  "kernelspec": {
   "display_name": "Python [conda env:emma] *",
   "language": "python",
   "name": "conda-env-emma-py"
  },
  "language_info": {
   "codemirror_mode": {
    "name": "ipython",
    "version": 3
   },
   "file_extension": ".py",
   "mimetype": "text/x-python",
   "name": "python",
   "nbconvert_exporter": "python",
   "pygments_lexer": "ipython3",
   "version": "3.6.8"
  }
 },
 "nbformat": 4,
 "nbformat_minor": 4
}
